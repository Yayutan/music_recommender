{
 "cells": [
  {
   "cell_type": "code",
   "execution_count": 20,
   "id": "90490345",
   "metadata": {},
   "outputs": [],
   "source": [
    "import csv\n",
    "import numpy as np\n",
    "import pandas as pd\n",
    "import matplotlib.pyplot as plt\n",
    "import datetime\n",
    "from sklearn.metrics import pairwise as pw\n",
    "\n",
    "pd.options.mode.chained_assignment = None"
   ]
  },
  {
   "cell_type": "code",
   "execution_count": 21,
   "id": "42248443",
   "metadata": {},
   "outputs": [],
   "source": [
    "# Compress the album df so that there are no duplicate entries\n",
    "# for tracks in the same album\n",
    "def compress_data(data, id_name):\n",
    "    grouped_data = data.groupby('id')\n",
    "    grouped_list_data = grouped_data['track_id'].apply(set)\n",
    "    data_track_listed = pd.merge(data, grouped_list_data, on='id')\n",
    "    data_track_listed = data_track_listed.drop(columns=['track_id_x'])\n",
    "    data_track_compressed = data_track_listed.drop_duplicates(subset='id')\n",
    "    data_track_compressed = data_track_compressed.rename(columns={'track_id_y': 'tracks_included'})\n",
    "    data_track_compressed.insert(0, id_name, data_track_compressed['id'])\n",
    "    data_track_compressed = data_track_compressed.drop(columns=['id'])\n",
    "    return data_track_compressed"
   ]
  },
  {
   "cell_type": "code",
   "execution_count": 22,
   "id": "04007a9c",
   "metadata": {},
   "outputs": [],
   "source": [
    "def output_df(data, columns, path):\n",
    "    out = pd.DataFrame(data=data, columns=columns)\n",
    "    out.to_csv(path_or_buf=path, index=False)"
   ]
  },
  {
   "cell_type": "code",
   "execution_count": 23,
   "id": "2270334b",
   "metadata": {},
   "outputs": [],
   "source": [
    "def track_add_artist_album_id(tracks, tracks_all):\n",
    "    tracks_df = pd.merge(tracks, tracks_all['album']['id'], on='track_id')\n",
    "    tracks_df = tracks_df.rename(columns={'id': 'album_id'})\n",
    "    tracks_df = pd.merge(tracks_df, tracks_all['artist']['id'], on='track_id')\n",
    "    tracks_df = tracks_df.rename(columns={'id': 'artist_id'})\n",
    "    return tracks_df"
   ]
  },
  {
   "cell_type": "code",
   "execution_count": 24,
   "id": "bd05cfaa",
   "metadata": {},
   "outputs": [],
   "source": [
    "def extract_genre_list(list_str):\n",
    "    out = []\n",
    "    elements = list_str[1:-1].split(',')\n",
    "    for e in elements:\n",
    "        if (e != ''):\n",
    "            out.append(int(e))\n",
    "    return out"
   ]
  },
  {
   "cell_type": "code",
   "execution_count": 25,
   "id": "baefdd6b",
   "metadata": {},
   "outputs": [],
   "source": [
    "# Problem: have to track until reach root; 1 column for each genre\n",
    "def track_top_genre(target, genre_data):\n",
    "    not_found = False\n",
    "    cur_id = target\n",
    "    while (not_found == False):\n",
    "        row = genre_data[genre_data['genre_id'] == cur_id]        \n",
    "        if row['parent'].iloc[0] == 0:\n",
    "            return cur_id\n",
    "        cur_id = row['parent'].iloc[0]\n",
    "    return -1"
   ]
  },
  {
   "cell_type": "code",
   "execution_count": 26,
   "id": "0d57437b",
   "metadata": {},
   "outputs": [],
   "source": [
    "# Transforming the top genre column in tracks to an index-based one\n",
    "def track_form_genre_col(tracks, genres):\n",
    "    top_genres_col = []\n",
    "    for i in range(len(tracks)):\n",
    "        cur_list = set()\n",
    "        genre_list = extract_genre_list(tracks.iloc[i]['genres_all'])\n",
    "        if len(genre_list) > 0:\n",
    "            for j in genre_list:            \n",
    "                root = track_top_genre(j, genres)\n",
    "                cur_list.add(root)\n",
    "        top_genres_col.append(cur_list)\n",
    "    return top_genres_col"
   ]
  },
  {
   "cell_type": "code",
   "execution_count": 27,
   "id": "942039b8",
   "metadata": {},
   "outputs": [],
   "source": [
    "def setup_output_album(tracks_all):\n",
    "    albums = tracks_all[\"album\"]\n",
    "    albums = albums.reset_index()\n",
    "    albums_df = compress_data(albums, 'album_id')\n",
    "    albums_columns = ['album_id', 'date_created', 'listens', 'favorites', 'type', 'tracks_included']\n",
    "    albums_path = '/Users/mchuang/PycharmProjects/react-flask-app/flaskProject/data/albums_compressed.csv'\n",
    "    output_df(albums_df, albums_columns, albums_path)"
   ]
  },
  {
   "cell_type": "code",
   "execution_count": 28,
   "id": "ea0eee6d",
   "metadata": {},
   "outputs": [],
   "source": [
    "def setup_output_artist(tracks_all):\n",
    "    artist = tracks_all[\"artist\"]\n",
    "    artist = artist.reset_index()\n",
    "    artist_df = compress_data(artist, 'artist_id')\n",
    "    artist_columns = ['artist_id', 'favorites', 'name']\n",
    "    artist_path = '/Users/mchuang/PycharmProjects/react-flask-app/flaskProject/data/artist_compressed.csv'\n",
    "    output_df(artist_df, artist_columns, artist_path)"
   ]
  },
  {
   "cell_type": "code",
   "execution_count": 29,
   "id": "bf937679",
   "metadata": {},
   "outputs": [],
   "source": [
    "def setup_output_track(tracks_all):\n",
    "    tracks = tracks_all[\"track\"]\n",
    "    tracks = tracks.reset_index()\n",
    "    tracks = track_add_artist_album_id(tracks, tracks_all)\n",
    "    tracks['genre_id'] = track_form_genre_col(tracks, genres)\n",
    "    tracks_columns = ['track_id', 'genre_id', 'album_id', 'artist_id', 'date_created', 'favorites', 'interest', 'listens', 'title']\n",
    "    tracks_df = pd.DataFrame(data=tracks, columns=tracks_columns)\n",
    "    # Store table to db\n",
    "    tracks_df.to_csv(path_or_buf='/Users/mchuang/PycharmProjects/react-flask-app/flaskProject/data/tracks_compressed.csv', index=False)"
   ]
  },
  {
   "cell_type": "code",
   "execution_count": 30,
   "id": "9304a225",
   "metadata": {},
   "outputs": [],
   "source": [
    "def setup_output_genres(genres):\n",
    "    genres = genres.reset_index()\n",
    "    genres_df = genres[genres['parent'] == 0]\n",
    "    genres_columns = ['genre_id', 'title']\n",
    "    genres_path = '/Users/mchuang/PycharmProjects/react-flask-app/flaskProject/data/genres_compressed.csv'\n",
    "    output_df(genres_df, genres_columns, genres_path)"
   ]
  },
  {
   "cell_type": "code",
   "execution_count": 31,
   "id": "09e3ed31",
   "metadata": {},
   "outputs": [],
   "source": [
    "# Read in the data\n",
    "tracks_all = pd.read_csv('data/fma_metadata/tracks.csv', index_col=0, header=[0, 1])\n",
    "tracks_small = tracks_all[tracks_all['set']['subset'] == 'small']\n",
    "genres = pd.read_csv('data/fma_metadata/genres.csv')\n",
    "echonest = pd.read_csv('data/fma_metadata/echonest.csv',index_col=0, header=[0, 1, 2])\n",
    "features = pd.read_csv('data/fma_metadata/features.csv',index_col=0, header=[0, 1, 2])"
   ]
  },
  {
   "cell_type": "code",
   "execution_count": 32,
   "id": "870332ce",
   "metadata": {},
   "outputs": [],
   "source": [
    "setup_output_album(tracks_small)\n",
    "setup_output_artist(tracks_small)\n",
    "setup_output_genres(genres)\n",
    "setup_output_track(tracks_small)"
   ]
  },
  {
   "cell_type": "code",
   "execution_count": null,
   "id": "0c4b0ec2",
   "metadata": {},
   "outputs": [],
   "source": [
    "# For analysis\n",
    "# Expression determining whether a row is valid(no na values)\n",
    "album_valid = ((albums_df_with_na['album_id']>=0) & ~(albums_df_with_na['date_created'].isna()) &\n",
    "                (albums_df_with_na['listens']>=0) & (albums_df_with_na['favorites']>=0) &\n",
    "                ~(albums_df_with_na['type'].isna()) & ~(albums_df_with_na['tracks_included'].isna()))\n",
    "# Keep only rows with valid values; 6.2% of the data dropped\n",
    "album_df_no_na = albums_df_with_na[album_valid == True]"
   ]
  },
  {
   "cell_type": "code",
   "execution_count": null,
   "id": "b0c1909f",
   "metadata": {},
   "outputs": [],
   "source": [
    "# Transform dummy types for album['type']\n",
    "album_type_dummy = pd.get_dummies(album_df_no_na['type'])\n",
    "for c in album_type_dummy.columns:\n",
    "    album_df_no_na[c] = album_type_dummy[c]"
   ]
  },
  {
   "cell_type": "code",
   "execution_count": null,
   "id": "3faed054",
   "metadata": {
    "scrolled": true
   },
   "outputs": [],
   "source": [
    "# Transform timestamp for album['date_created']\n",
    "album_df_no_na['timestamp'] = [datetime.datetime.timestamp(datetime.datetime.strptime(album_df_no_na.iloc[i]['date_created'],\"%Y-%m-%d %H:%M:%S\")) for i in range(len(album_df_no_na))]"
   ]
  },
  {
   "cell_type": "code",
   "execution_count": null,
   "id": "42087ecd",
   "metadata": {},
   "outputs": [],
   "source": [
    "# Store table to db\n",
    "tracks_df.to_csv(path_or_buf='/Users/mchuang/PycharmProjects/flaskProject/data/tracks_compressed.csv', index=False)"
   ]
  },
  {
   "cell_type": "code",
   "execution_count": null,
   "id": "4bb7c5bc",
   "metadata": {},
   "outputs": [],
   "source": [
    "# Compress the album df so that there are no duplicate entries\n",
    "# for tracks in the same album\n",
    "artists_with_track_id = artists.reset_index()\n",
    "grouped_artists = artists_with_track_id.groupby('id')\n",
    "grouped_list_artists = grouped_artists['track_id'].apply(list)\n",
    "artists_track_listed = pd.merge(artists_with_track_id, grouped_list_artists, on='id')\n",
    "artists_track_listed = artists_track_listed.drop(columns=['track_id_x'])\n",
    "artists_track_compressed = artists_track_listed.drop_duplicates(subset='id')\n",
    "artists_track_compressed = artists_track_compressed.rename(columns={'track_id_y': 'tracks_included'})"
   ]
  },
  {
   "cell_type": "code",
   "execution_count": null,
   "id": "2cfb46cc",
   "metadata": {},
   "outputs": [],
   "source": [
    "artists_track_compressed"
   ]
  },
  {
   "cell_type": "code",
   "execution_count": null,
   "id": "36e915b5",
   "metadata": {},
   "outputs": [],
   "source": [
    "# Dataframe to store in db\n",
    "artists_track_compressed.insert(0, 'artist_id', artists_track_compressed['id'])\n",
    "artists_track_compressed = artists_track_compressed.drop(columns=['id'])\n",
    "artist_columns = ['artist_id', 'favorites', 'name']\n",
    "artist_final = pd.DataFrame(data=artists_track_compressed, columns=artist_columns)"
   ]
  },
  {
   "cell_type": "code",
   "execution_count": null,
   "id": "8d32dd01",
   "metadata": {},
   "outputs": [],
   "source": [
    "artist_final.to_csv(path_or_buf='/Users/mchuang/PycharmProjects/flaskProject/data/artist_compressed.csv', index=False)"
   ]
  },
  {
   "cell_type": "code",
   "execution_count": null,
   "id": "148c58d0",
   "metadata": {},
   "outputs": [],
   "source": [
    "# Transforming the top genre column in tracks to an index-based one\n",
    "top_genres_sep = genres[genres['parent']==0].loc[:,['genre_id','title']].to_dict('records')\n",
    "\n",
    "top_genres_dict = {}\n",
    "for i in top_genres_sep:\n",
    "    top_genres_dict[i['title']] = i['genre_id']\n",
    "    \n",
    "top_genres_col = []\n",
    "for i in range(len(tracks_df)):\n",
    "    cur = tracks_df.iloc[i]['genre_top']\n",
    "    if (cur in top_genres_dict):\n",
    "        top_genres_col.append(top_genres_dict[cur])\n",
    "    else:\n",
    "        top_genres_col.append(-1)\n",
    "tracks_df['genre_id'] = top_genres_col"
   ]
  },
  {
   "cell_type": "code",
   "execution_count": null,
   "id": "cba9a408",
   "metadata": {},
   "outputs": [],
   "source": []
  },
  {
   "cell_type": "code",
   "execution_count": null,
   "id": "c1d1f5e7",
   "metadata": {},
   "outputs": [],
   "source": [
    "tracks = pd.read_csv('/Users/mchuang/PycharmProjects/react-flask-app/flaskProject/data/tracks_compressed.csv', index_col=0, header=[0, 1])\n",
    "genres = pd.read_csv('/Users/mchuang/PycharmProjects/react-flask-app/flaskProject/data/genres_compressed.csv')\n",
    "echonest = pd.read_csv('data/fma_metadata/echonest.csv',index_col=0, header=[0, 1, 2])\n",
    "features = pd.read_csv('data/fma_metadata/features.csv',index_col=0, header=[0, 1, 2])"
   ]
  },
  {
   "cell_type": "code",
   "execution_count": null,
   "id": "71a9b221",
   "metadata": {},
   "outputs": [],
   "source": []
  },
  {
   "cell_type": "code",
   "execution_count": 34,
   "id": "682cc8ce",
   "metadata": {},
   "outputs": [],
   "source": [
    "def read_data():\n",
    "    whole_track = pd.read_csv('/Users/mchuang/PycharmProjects/MOJO_Project/data/fma_metadata/tracks.csv', index_col=0, header=[0, 1])\n",
    "    genre = pd.read_csv('/Users/mchuang/PycharmProjects/MOJO_Project/data/fma_metadata/genres.csv')\n",
    "    echonest = pd.read_csv('/Users/mchuang/PycharmProjects/MOJO_Project/data/fma_metadata/echonest.csv', index_col=0, header=[0, 1, 2])\n",
    "    small_track = whole_track[whole_track['set']['subset'] == 'small']\n",
    "    return small_track, genre, echonest\n",
    "\n",
    "\n",
    "def split_track_levels(whole_track):\n",
    "    album = whole_track['album']\n",
    "    artist = whole_track['artist']\n",
    "    track = whole_track['track']\n",
    "    track.reset_index(level=0, inplace=True)\n",
    "    album.reset_index(level=0, inplace=True)\n",
    "    artist.reset_index(level=0, inplace=True)\n",
    "    return track, album, artist\n",
    "\n",
    "\n",
    "def split_echonest_levels(echonest):\n",
    "    audio_features = echonest['echonest']['audio_features']\n",
    "    metadata = echonest['echonest']['metadata']\n",
    "    ranks = echonest['echonest']['ranks']\n",
    "    social_features = echonest['echonest']['social_features']\n",
    "    temporal_features = echonest['echonest']['temporal_features']\n",
    "    audio_features.reset_index(level=0, inplace=True)\n",
    "    metadata.reset_index(level=0, inplace=True)\n",
    "    ranks.reset_index(level=0, inplace=True)\n",
    "    social_features.reset_index(level=0, inplace=True)\n",
    "    temporal_features.reset_index(level=0, inplace=True)\n",
    "    return audio_features, metadata, ranks, social_features, temporal_features\n"
   ]
  },
  {
   "cell_type": "code",
   "execution_count": 35,
   "id": "4caa1148",
   "metadata": {},
   "outputs": [],
   "source": [
    "def extract_tracks(tracks):\n",
    "    # Set up subset of track dataset\n",
    "    track_simplified = pd.DataFrame(\n",
    "        {'track_comments': tracks[('track', 'comments')],\n",
    "         'track_favorites': tracks[('track', 'favorites')],\n",
    "         'track_genre': tracks[('track', 'genres_all')],\n",
    "         'track_interest': tracks[('track', 'interest')],\n",
    "         'track_listen': tracks[('track', 'listens')]})\n",
    "    return track_simplified\n",
    "\n",
    "\n",
    "def extract_echonest(echonest):\n",
    "    # Set up subset of echonest dataset\n",
    "    echonest_no_level = echonest.copy()\n",
    "    no_level_columns = echonest_no_level.columns.droplevel(0).droplevel(0)\n",
    "    echonest_no_level.columns = no_level_columns\n",
    "    echonest_no_level = pd.DataFrame(echonest_no_level.iloc[:, :25])\n",
    "\n",
    "    audio_columns = 'audio_' + no_level_columns[:8]\n",
    "    metadata_columns = 'metadata_' + no_level_columns[8:15]\n",
    "    ranks_columns = 'ranks_' + no_level_columns[15:20]\n",
    "    social_columns = 'social_' + no_level_columns[20:25]\n",
    "    echonest_no_level.columns = audio_columns.append(metadata_columns).append(ranks_columns).append(social_columns)\n",
    "    echonest_simplified = pd.merge(echonest_no_level.iloc[:, :8], echonest_no_level.iloc[:, 20:], on='track_id')\n",
    "    return echonest_simplified\n",
    "\n",
    "\n",
    "def extract_genre_list(list_str):\n",
    "    out = []\n",
    "    elements = list_str[1:-1].split(',')\n",
    "    for e in elements:\n",
    "        out.append(int(e))\n",
    "    return out\n",
    "\n",
    "\n",
    "def add_genre_columns(data, genres):\n",
    "    for g in genres['title']:\n",
    "        code = genres[genres['title'] == g]['genre_id']\n",
    "        genre_col = np.zeros(len(data))\n",
    "        for i in range(len(data)):\n",
    "            genre_list = extract_genre_list(data.iloc[i]['track_genre'])\n",
    "            for element in genre_list:\n",
    "                if int(element) == int(code):\n",
    "                    genre_col[i] = 1\n",
    "        data[g] = genre_col\n",
    "    return data\n",
    "\n",
    "\n",
    "def setup_data(tracks, genres, echonest):\n",
    "    track_simplified = extract_tracks(tracks)\n",
    "    echonest_simplified = extract_echonest(echonest)\n",
    "    data = pd.merge(track_simplified, echonest_simplified, on='track_id')\n",
    "    data.drop_duplicates()\n",
    "    data = add_genre_columns(data, genres)\n",
    "    data = data.drop(labels=['track_genre'], axis=1)\n",
    "    return data\n",
    "\n",
    "\n",
    "def similarity_df(data):\n",
    "    sim_list = []\n",
    "    cosine_similarities = pw.cosine_similarity(data, data)\n",
    "    for i in range(len(cosine_similarities) - 1):\n",
    "        for j in range(i+1, len(cosine_similarities)):\n",
    "            sim_list.append((data.index[i], data.index[j], cosine_similarities[i][j]))\n",
    "    sim_table = pd.DataFrame(sim_list, columns=[\"track_a\", \"track_b\", \"score\"])\n",
    "    return sim_table\n",
    "\n",
    "def output_sim_table(tracks, genres, echonest):\n",
    "    data = setup_data(tracks, genres, echonest)\n",
    "    sim = similarity_df(data)\n",
    "    sim.to_csv(path_or_buf='/Users/mchuang/PycharmProjects/react-flask-app/flaskProject/data/similarity.csv', index=False)\n"
   ]
  },
  {
   "cell_type": "code",
   "execution_count": 36,
   "id": "bfc998a4",
   "metadata": {},
   "outputs": [],
   "source": [
    "track, genre, echonest = read_data()\n",
    "output_sim_table(track, genre, echonest)"
   ]
  },
  {
   "cell_type": "code",
   "execution_count": null,
   "id": "3c4617a4",
   "metadata": {},
   "outputs": [],
   "source": []
  }
 ],
 "metadata": {
  "kernelspec": {
   "display_name": "Python 3",
   "language": "python",
   "name": "python3"
  },
  "language_info": {
   "codemirror_mode": {
    "name": "ipython",
    "version": 3
   },
   "file_extension": ".py",
   "mimetype": "text/x-python",
   "name": "python",
   "nbconvert_exporter": "python",
   "pygments_lexer": "ipython3",
   "version": "3.9.1"
  }
 },
 "nbformat": 4,
 "nbformat_minor": 5
}
